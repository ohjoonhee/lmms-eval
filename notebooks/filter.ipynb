{
 "cells": [
  {
   "cell_type": "code",
   "execution_count": 1,
   "id": "2100d9f1",
   "metadata": {},
   "outputs": [
    {
     "name": "stdout",
     "output_type": "stream",
     "text": [
      "[{'doc_id': 0, 'target': 'A', 'filtered_resps': ['<think>\\nSo the question is asking about the number above the entrance where the woman is standing. Let me look at the image again. The woman is standing at the bottom of a staircase, and there\\'s a sign above the entrance. The sign says \"27B\". So the options are A. 27B, B. 27D, C. 27E, D. 37B.\\n\\nWait, the sign clearly shows \"27B\", so the answer should be A. But let me make sure I\\'m not missing anything. The entrance is a stairwell, and the number is right above the doorway. There\\'s no other number visible in the image. The other options have different letters or numbers, like 27D or 37B, but those aren\\'t on the sign. So yeah, it\\'s definitely 27B. The answer must be A.\\n</think>\\n\\nThe number displayed above the entrance is clearly \"27B\" on the sign. \\n\\n**Answer:** A. 27B'], 'doc_hash': '74234e98afe7498fb5daf1f36ac2d78acc339464f950703b8c019892f982b90b', 'single': {'index': 0, 'cycle_category': '0', 'gpt_score': 1}, 'average': {'index': 0, 'cycle_category': '0', 'gpt_score': 1}, 'input': 'What is the number displayed above the entrance where the woman is standing?\\nA. 27B\\nB. 27D\\nC. 27E\\nD. 37B\\n'}, {'doc_id': 1, 'target': 'B', 'filtered_resps': ['<think>\\nSo the question is asking about the number above the entrance where the woman is standing. Let me look at the image again. The woman is standing at the bottom of a staircase, and there\\'s a sign above the entrance. The sign has the number \"27B\" on it. So the options are A. 37B, B. 27B, C. 27E, D. 27D.\\n\\nWait, the sign clearly says \"27B\". So the correct answer should be B. 27B. Let me double-check to make sure I\\'m not missing anything. The entrance is a stairwell, and the number is right above the doorway. There\\'s no other number visible in the image. The other options have different letters or numbers, but \"27B\" is exactly what\\'s on the sign. So yeah, B is the right choice.\\n</think>\\n\\nThe number displayed above the entrance is **27B**, as shown on the sign directly above the doorway. \\n\\n**Answer:** B. 27B'], 'doc_hash': '74234e98afe7498fb5daf1f36ac2d78acc339464f950703b8c019892f982b90b', 'single': {'index': 1, 'cycle_category': '1', 'gpt_score': 1}, 'average': {'index': 1, 'cycle_category': '1', 'gpt_score': 1}, 'input': 'What is the number displayed above the entrance where the woman is standing?\\nA. 37B\\nB. 27B\\nC. 27E\\nD. 27D\\n'}, {'doc_id': 2, 'target': 'C', 'filtered_resps': ['<think>\\nSo, looking at the image, there\\'s a woman standing in front of a staircase entrance. Above the entrance, there\\'s a small sign with numbers and a letter. The options given are A. 37B, B. 27D, C. 27B, and D. 27E.\\n\\nFirst, I\\'ll focus on the sign above the entrance. The sign clearly shows the number \"27\" followed by a letter. The letter appears to be a \"B\". So, that would make it \"27B\".\\n\\nNow, looking at the options, option C is \"27B\", which matches what I see on the sign. The other options have different letters or numbers, like \"37B\" or \"27D\", which don\\'t match the sign.\\n\\nI should double-check to make sure I\\'m not missing anything. The sign is right above the entrance, and it\\'s clearly visible. There\\'s no other sign or number that could be confusing. The woman is standing in front of the entrance, so the sign is directly related to where she is.\\n\\nAlso, considering the layout of the options, \"27B\" is the only one that matches the sign exactly. The other options either have the wrong number or the wrong letter.\\n\\nSo, after carefully looking at the sign and comparing it to the options, I\\'m confident that the correct answer is C. 27B.\\n</think>\\n\\nThe number displayed above the entrance is \"27B\". \\n\\n**Answer: C. 27B**'], 'doc_hash': '74234e98afe7498fb5daf1f36ac2d78acc339464f950703b8c019892f982b90b', 'single': {'index': 2, 'cycle_category': '2', 'gpt_score': 1}, 'average': {'index': 2, 'cycle_category': '2', 'gpt_score': 1}, 'input': 'What is the number displayed above the entrance where the woman is standing?\\nA. 37B\\nB. 27D\\nC. 27B\\nD. 27E\\n'}, {'doc_id': 3, 'target': 'D', 'filtered_resps': ['<think>\\nSo the question is asking about the number above the entrance where the woman is standing. Let\\'s look at the image again. The woman is standing at the bottom of a staircase, and there\\'s a sign above the entrance. The sign has the number \"27\" and a letter. The options are A. 27E, B. 27D, C. 37B, D. 27B.\\n\\nFirst, I\\'ll check the number. The sign clearly shows \"27\", so options C (37B) can be ruled out because the number is wrong. Now, between A, B, and D, the letter is important. The sign says \"27B\", so D should be the correct answer. But wait, maybe I\\'m missing something. Let me double-check. The woman is standing in front of the staircase, and the sign is directly above the entrance. There\\'s no indication of E or D on the sign. The letter is definitely B. So the answer should be D. 27B.\\n</think>\\n\\nThe number displayed above the entrance is **27B**, as indicated by the sign directly above the staircase. \\n\\n**Answer:** D. 27B'], 'doc_hash': '74234e98afe7498fb5daf1f36ac2d78acc339464f950703b8c019892f982b90b', 'single': {'index': 3, 'cycle_category': '3', 'gpt_score': 1}, 'average': {'index': 3, 'cycle_category': '3', 'gpt_score': 1}, 'input': 'What is the number displayed above the entrance where the woman is standing?\\nA. 27E\\nB. 27D\\nC. 37B\\nD. 27B\\n'}, {'doc_id': 4, 'target': 'A', 'filtered_resps': [\"<think>\\nOkay, let's look at the image again. The question is about the color of the mailbox. The options are A. Blue, B. Green, C. Black, D. Red.\\n\\nFirst, I need to find the mailbox in the picture. The woman is standing in front of a staircase, and there's a mailbox to her right, near the wall. The mailbox is a bit small and has some writing on it. Let me check the color again. The mailbox is blue, right? Because the door of the mailbox is blue, and the body might be a different color, but the main part visible is blue. Wait, but sometimes mailboxes can have different parts. Let me make sure. The mailbox is attached to the wall next to the staircase. The part that's visible is the front door, which is blue. The rest of the mailbox might be white or another color, but the question is about the color of the mailbox. Since the main part that's visible is blue, the answer should be A. Blue. But wait, sometimes the options might trick you. Let me check again. The mailbox is blue with some white parts? Or is the entire mailbox blue? The image shows the mailbox as blue. So the correct answer should be A. Blue.\\n</think>\\n\\nThe mailbox in the image is blue. \\n\\n**Answer:** A. Blue\"], 'doc_hash': '74234e98afe7498fb5daf1f36ac2d78acc339464f950703b8c019892f982b90b', 'single': {'index': 4, 'cycle_category': '0', 'gpt_score': 1}, 'average': {'index': 4, 'cycle_category': '0', 'gpt_score': 1}, 'input': 'What is the color of the mailbox?\\nA. Blue\\nB. Green\\nC. Black\\nD. Red\\n'}]\n"
     ]
    }
   ],
   "source": [
    "import json\n",
    "\n",
    "# read jsonl file\n",
    "path = \"/mnt/ssd/Projects/lmms-eval/outputs/hrbench_intern35_8b-think/OpenGVLab__InternVL3_5-8B/20250928_145210_samples_hrbench8k.jsonl\"\n",
    "with open(path, \"r\") as f:\n",
    "    data = [json.loads(line) for line in f]\n",
    "\n",
    "print(data[:5])  # print first 5 entries"
   ]
  },
  {
   "cell_type": "code",
   "execution_count": 2,
   "id": "d57d96e2",
   "metadata": {},
   "outputs": [],
   "source": [
    "def filter_line(line):\n",
    "    return len(line[\"filtered_resps\"][0]) > 12500"
   ]
  },
  {
   "cell_type": "markdown",
   "id": "566349f7",
   "metadata": {},
   "source": [
    "filtered_data = [line for line in data if filter_line(line)]\n",
    "print(f\"Filtered data contains {len(filtered_data)} entries out of {len(data)}\")\n",
    "\n",
    "# save filtered data to a new jsonl file\n",
    "output_path = \"filtered_hrbench8k.jsonl\"\n",
    "with open(output_path, \"w\") as f:\n",
    "    for line in filtered_data:\n",
    "        f.write(json.dumps(line) + \"\\n\")"
   ]
  },
  {
   "cell_type": "code",
   "execution_count": null,
   "id": "46300a50",
   "metadata": {},
   "outputs": [],
   "source": []
  }
 ],
 "metadata": {
  "kernelspec": {
   "display_name": "lmms-eval (3.12.11)",
   "language": "python",
   "name": "python3"
  },
  "language_info": {
   "codemirror_mode": {
    "name": "ipython",
    "version": 3
   },
   "file_extension": ".py",
   "mimetype": "text/x-python",
   "name": "python",
   "nbconvert_exporter": "python",
   "pygments_lexer": "ipython3",
   "version": "3.12.11"
  }
 },
 "nbformat": 4,
 "nbformat_minor": 5
}
