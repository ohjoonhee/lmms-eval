{
 "cells": [
  {
   "cell_type": "code",
   "execution_count": 12,
   "id": "2100d9f1",
   "metadata": {},
   "outputs": [
    {
     "name": "stdout",
     "output_type": "stream",
     "text": [
      "[{'doc_id': 0, 'target': 'A', 'filtered_resps': ['<|begin_of_box|>I need to examine the image to identify the number displayed above the entrance where the woman is standing. Looking at the image, I can see a woman standing in front of an entrance with a staircase behind her. Above this entrance, there is a small rectangular sign with a number on it. The number clearly displayed on the sign is \"27B\". Comparing this with the given options, the correct answer is A. 27B.<|end_of_box|>\\nThe number displayed above the entrance where the woman is standing is 27B, therefore, the answer is <|begin_of_box|>A. 27B<|end_of_box|>.'], 'doc_hash': 'N/A', 'single': {'index': 0, 'cycle_category': '0', 'gpt_score': 1}, 'average': {'index': 0, 'cycle_category': '0', 'gpt_score': 1}, 'input': 'What is the number displayed above the entrance where the woman is standing?\\nA. 27B\\nB. 37B\\nC. 27D\\nD. 27E\\n'}, {'doc_id': 1, 'target': 'B', 'filtered_resps': ['<|begin_of_box|>Looking at the image, I can see a woman standing in front of an entrance. Above this entrance, there is a small rectangular sign with a number displayed on it. The sign clearly shows \"27B\" as the number above the entrance where the woman is standing.\\n\\nComparing this with the given options:\\nA. 27E\\nB. 27B\\nC. 37B\\nD. 27D\\n\\nThe correct answer is B. 27B, as this matches the number visible on the sign in the image.<|end_of_box|>\\nThe number displayed above the entrance where the woman is standing is 27B.'], 'doc_hash': 'N/A', 'single': {'index': 1, 'cycle_category': '1', 'gpt_score': 1}, 'average': {'index': 1, 'cycle_category': '1', 'gpt_score': 1}, 'input': 'What is the number displayed above the entrance where the woman is standing?\\nA. 27E\\nB. 27B\\nC. 37B\\nD. 27D\\n'}, {'doc_id': 2, 'target': 'C', 'filtered_resps': ['<|begin_of_box|>Looking at the image, I can see a woman standing in front of an entrance. Above this entrance, there is a small sign or plaque displaying a number. The number clearly shows \"27B\" - with the digits \"27\" followed by the letter \"B\". Comparing this to the given options, the correct answer is 27B.<|end_of_box|>\\n27B'], 'doc_hash': 'N/A', 'single': {'index': 2, 'cycle_category': '2', 'gpt_score': 1}, 'average': {'index': 2, 'cycle_category': '2', 'gpt_score': 1}, 'input': 'What is the number displayed above the entrance where the woman is standing?\\nA. 27E\\nB. 27D\\nC. 27B\\nD. 37B\\n'}, {'doc_id': 3, 'target': 'D', 'filtered_resps': ['<|begin_of_box|>Looking at the image, I can see a woman standing in front of an entrance. Above this entrance, there is a small sign or plaque with a number displayed on it. The number clearly shows \"27B\" - with the digits \"27\" followed by the letter \"B\". Comparing this to the given options, the correct answer is 27B.<|end_of_box|>\\n27B'], 'doc_hash': 'N/A', 'single': {'index': 3, 'cycle_category': '3', 'gpt_score': 1}, 'average': {'index': 3, 'cycle_category': '3', 'gpt_score': 1}, 'input': 'What is the number displayed above the entrance where the woman is standing?\\nA. 27E\\nB. 37B\\nC. 27D\\nD. 27B\\n'}, {'doc_id': 4, 'target': 'A', 'filtered_resps': ['<|begin_of_box|>I need to examine the image to identify the mailbox and determine its color. Looking at the background of the image, there is a mailbox visible near the staircase. The mailbox has a distinct blue color. Comparing this observation with the given options, the correct choice is A. Blue.</think>\\nA. Blue'], 'doc_hash': 'N/A', 'single': {'index': 4, 'cycle_category': '0', 'gpt_score': 1}, 'average': {'index': 4, 'cycle_category': '0', 'gpt_score': 1}, 'input': 'What is the color of the mailbox?\\nA. Blue\\nB. Red\\nC. Green\\nD. Black\\n'}]\n"
     ]
    }
   ],
   "source": [
    "import json\n",
    "\n",
    "# read jsonl file\n",
    "path = \"/mnt/ssd/Projects/lmms-eval/outputs/hrbench_glm45v_think/eval_results.jsonl\"\n",
    "with open(path, \"r\") as f:\n",
    "    data = [json.loads(line) for line in f]\n",
    "\n",
    "print(data[:5])  # print first 5 entries"
   ]
  },
  {
   "cell_type": "code",
   "execution_count": 13,
   "id": "d57d96e2",
   "metadata": {},
   "outputs": [
    {
     "name": "stdout",
     "output_type": "stream",
     "text": [
      "{'question': 'Where is the person standing in relation to the recycle bin?\\nA. In front of the recycle bin\\nB. Behind the recycle bin\\nC. To the right of the recycle bin\\nD. To the left of the recycle bin\\n', 'target': 'A', 'response': '<|begin_of_box|>To determine the person’s position relative to the recycle bin, analyze the image:  \\n- The recycle bin is a brown structure with “RECYCLE” visible.  \\n- The person in the background is standing such that the recycle bin is in front of them (i.e., the bin is between the person and the camera’s perspective).  \\n\\nThus, the person is behind the recycle bin.  \\n\\nAnswer: B. Behind the recycle bin<|end_of_box|>'}\n"
     ]
    }
   ],
   "source": [
    "# Reorganize the data entries\n",
    "reorganized_data = {0: [], 1: []}\n",
    "for e in data:\n",
    "    score = e[\"average\"][\"gpt_score\"]\n",
    "    reorganized_data[score].append(\n",
    "        {\n",
    "            \"question\": e[\"input\"],\n",
    "            \"target\": e[\"target\"],\n",
    "            \"response\": e[\"filtered_resps\"][0],\n",
    "        }\n",
    "    )\n",
    "\n",
    "print(reorganized_data[0][0])  # print first entry of score 0"
   ]
  },
  {
   "cell_type": "code",
   "execution_count": 14,
   "id": "f6c29842",
   "metadata": {},
   "outputs": [
    {
     "name": "stdout",
     "output_type": "stream",
     "text": [
      "211 589\n"
     ]
    }
   ],
   "source": [
    "print(len(reorganized_data[0]), len(reorganized_data[1]))  # print lengths of both lists"
   ]
  },
  {
   "cell_type": "code",
   "execution_count": 16,
   "id": "566349f7",
   "metadata": {},
   "outputs": [
    {
     "data": {
      "image/png": "[encoded data removed]",
      "text/plain": [
       "<Figure size 640x480 with 1 Axes>"
      ]
     },
     "metadata": {},
     "output_type": "display_data"
    }
   ],
   "source": [
    "from transformers import AutoTokenizer\n",
    "\n",
    "tokenizer = AutoTokenizer.from_pretrained(\"zai-org/GLM-4.5V-FP8\")\n",
    "# draw histogram of lengths\n",
    "import matplotlib.pyplot as plt\n",
    "\n",
    "lengths_0 = []\n",
    "lengths_1 = []\n",
    "for score in [0, 1]:\n",
    "    for entry in reorganized_data[score]:\n",
    "        input_text = entry[\"question\"] + \" \" + entry[\"response\"]\n",
    "        tokens = tokenizer(input_text, return_tensors=\"pt\", truncation=True, max_length=8192)\n",
    "        if score == 0:\n",
    "            lengths_0.append(tokens.input_ids.shape[1])\n",
    "        else:\n",
    "            lengths_1.append(tokens.input_ids.shape[1])\n",
    "\n",
    "plt.hist(lengths_1, bins=50, alpha=0.5, label=\"Right\")\n",
    "plt.hist(lengths_0, bins=50, alpha=0.5, label=\"Wrong\")\n",
    "# Make y-axis break\n",
    "plt.xlabel(\"Number of tokens\")\n",
    "plt.ylabel(\"Number of entries\")\n",
    "plt.legend()\n",
    "plt.title(\"GLM-4.5V-FP8 Response Lengths\")\n",
    "plt.show()"
   ]
  },
  {
   "cell_type": "code",
   "execution_count": 18,
   "id": "8658f3e1",
   "metadata": {},
   "outputs": [
    {
     "name": "stdout",
     "output_type": "stream",
     "text": [
      "Most common tokens in WRONG\n",
      "Token ID: 279, Count in score 0: 4279, Token:  the\n",
      "Token ID: 11, Count in score 0: 3310, Token: ,\n",
      "Token ID: 13, Count in score 0: 3234, Token: .\n",
      "Token ID: 220, Count in score 0: 2743, Token:  \n",
      "Token ID: 374, Count in score 0: 1419, Token:  is\n",
      "Token ID: 198, Count in score 0: 1094, Token: \n",
      "\n",
      "Token ID: 311, Count in score 0: 837, Token:  to\n",
      "Token ID: 5739, Count in score 0: 813, Token:  Item\n",
      "Token ID: 323, Count in score 0: 763, Token:  and\n",
      "Token ID: 315, Count in score 0: 761, Token:  of\n",
      "Token ID: 13815, Count in score 0: 723, Token:  Wait\n",
      "Token ID: 264, Count in score 0: 681, Token:  a\n",
      "Token ID: 358, Count in score 0: 655, Token:  I\n",
      "Token ID: 304, Count in score 0: 636, Token:  in\n",
      "Token ID: 2168, Count in score 0: 587, Token:  image\n",
      "Token ID: 25, Count in score 0: 581, Token: :\n",
      "Token ID: 594, Count in score 0: 530, Token: 's\n",
      "Token ID: 16, Count in score 0: 513, Token: 1\n",
      "Token ID: 7196, Count in score 0: 473, Token:  maybe\n",
      "Token ID: 525, Count in score 0: 456, Token:  are\n",
      "\n",
      "\n",
      "Most common tokens in RIGHT\n",
      "Token ID: 279, Count in score 1: 7262, Token:  the\n",
      "Token ID: 13, Count in score 1: 5331, Token: .\n",
      "Token ID: 198, Count in score 1: 2612, Token: \n",
      "\n",
      "Token ID: 11, Count in score 1: 2297, Token: ,\n",
      "Token ID: 220, Count in score 1: 1766, Token:  \n",
      "Token ID: 374, Count in score 1: 1764, Token:  is\n",
      "Token ID: 315, Count in score 1: 1694, Token:  of\n",
      "Token ID: 311, Count in score 1: 1204, Token:  to\n",
      "Token ID: 323, Count in score 1: 1013, Token:  and\n",
      "Token ID: 304, Count in score 1: 993, Token:  in\n",
      "Token ID: 389, Count in score 1: 945, Token:  on\n",
      "Token ID: 264, Count in score 1: 920, Token:  a\n",
      "Token ID: 2168, Count in score 1: 888, Token:  image\n",
      "Token ID: 25, Count in score 1: 800, Token: :\n",
      "Token ID: 32, Count in score 1: 720, Token: A\n",
      "Token ID: 33, Count in score 1: 709, Token: B\n",
      "Token ID: 35, Count in score 1: 691, Token: D\n",
      "Token ID: 34, Count in score 1: 678, Token: C\n",
      "Token ID: 151361, Count in score 1: 602, Token: <|begin_of_box|>\n",
      "Token ID: 576, Count in score 1: 599, Token:  The\n"
     ]
    }
   ],
   "source": [
    "# find the most used tokens in each score group\n",
    "from collections import Counter\n",
    "\n",
    "counter_0 = Counter()\n",
    "counter_1 = Counter()\n",
    "for score in [0, 1]:\n",
    "    for entry in reorganized_data[score]:\n",
    "        input_text = entry[\"question\"] + \" \" + entry[\"response\"]\n",
    "        tokens = tokenizer(input_text, return_tensors=\"pt\", truncation=True, max_length=8192)\n",
    "        if score == 0:\n",
    "            counter_0.update(tokens.input_ids[0].tolist())\n",
    "        else:\n",
    "            counter_1.update(tokens.input_ids[0].tolist())\n",
    "\n",
    "print(\"Most common tokens in WRONG\")\n",
    "for token_id, count in counter_0.most_common(20):\n",
    "    print(f\"Token ID: {token_id}, Count in score 0: {count}, Token: {tokenizer.decode([token_id])}\")\n",
    "print(\"\\n\\nMost common tokens in RIGHT\")\n",
    "for token_id, count in counter_1.most_common(20):\n",
    "    print(f\"Token ID: {token_id}, Count in score 1: {count}, Token: {tokenizer.decode([token_id])}\")"
   ]
  },
  {
   "cell_type": "code",
   "execution_count": null,
   "id": "90b6a8fe",
   "metadata": {},
   "outputs": [],
   "source": []
  }
 ],
 "metadata": {
  "kernelspec": {
   "display_name": "lmms-eval (3.12.11)",
   "language": "python",
   "name": "python3"
  },
  "language_info": {
   "codemirror_mode": {
    "name": "ipython",
    "version": 3
   },
   "file_extension": ".py",
   "mimetype": "text/x-python",
   "name": "python",
   "nbconvert_exporter": "python",
   "pygments_lexer": "ipython3",
   "version": "3.12.11"
  }
 },
 "nbformat": 4,
 "nbformat_minor": 5
}
